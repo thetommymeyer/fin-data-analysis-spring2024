{
 "cells": [
  {
   "cell_type": "code",
   "execution_count": 1,
   "metadata": {},
   "outputs": [],
   "source": [
    "# Import my libraries\n",
    "\n",
    "import numpy as np"
   ]
  },
  {
   "cell_type": "code",
   "execution_count": 7,
   "metadata": {},
   "outputs": [
    {
     "data": {
      "text/plain": [
       "array([[ 0.20592626,  0.57483165, -0.24510709],\n",
       "       [-0.11037057,  0.27165475, -0.82612591]])"
      ]
     },
     "execution_count": 7,
     "metadata": {},
     "output_type": "execute_result"
    }
   ],
   "source": [
    "my_random_array = np.random.randn(2, 3)\n",
    "my_random_array"
   ]
  },
  {
   "cell_type": "code",
   "execution_count": 8,
   "metadata": {},
   "outputs": [
    {
     "data": {
      "text/plain": [
       "array([1, 2, 3, 4])"
      ]
     },
     "execution_count": 8,
     "metadata": {},
     "output_type": "execute_result"
    }
   ],
   "source": [
    "np.arange(1, 5)  # from 1 inclusive to 5 exclusive"
   ]
  },
  {
   "cell_type": "code",
   "execution_count": 9,
   "metadata": {},
   "outputs": [
    {
     "data": {
      "text/plain": [
       "array([[-0.97198877,  0.25594697, -1.08489201, -0.62649486, -0.27333828],\n",
       "       [ 1.17002258, -0.60603538, -0.49632809,  0.99486657,  0.28029629],\n",
       "       [-0.94917193,  0.32226357, -0.48738369, -1.64362464,  0.16976135],\n",
       "       [ 1.16450792, -1.08788222,  1.16091119,  0.78629863, -0.34521322],\n",
       "       [ 1.45322545, -0.99507212, -1.41638629,  0.54417589,  0.06854904],\n",
       "       [-1.26661877,  0.64299607,  0.27389183,  0.10718068,  0.01128291],\n",
       "       [-0.57736335,  1.06459504,  0.79036714,  1.88790416, -0.33866244],\n",
       "       [-0.64720104,  0.37057678,  1.46194442, -0.16365545,  1.70842685],\n",
       "       [-0.13953322,  1.01747057, -0.76163199, -0.37163054,  2.35542009],\n",
       "       [ 1.78146592,  0.68087995, -0.14424296, -1.41845839,  1.16757703]])"
      ]
     },
     "execution_count": 9,
     "metadata": {},
     "output_type": "execute_result"
    }
   ],
   "source": [
    "big_matrix = np.random.randn(10, 5)\n",
    "big_matrix"
   ]
  },
  {
   "cell_type": "code",
   "execution_count": 10,
   "metadata": {},
   "outputs": [
    {
     "data": {
      "text/plain": [
       "2"
      ]
     },
     "execution_count": 10,
     "metadata": {},
     "output_type": "execute_result"
    }
   ],
   "source": [
    "big_matrix.ndim"
   ]
  },
  {
   "cell_type": "code",
   "execution_count": 11,
   "metadata": {},
   "outputs": [
    {
     "data": {
      "text/plain": [
       "(10, 5)"
      ]
     },
     "execution_count": 11,
     "metadata": {},
     "output_type": "execute_result"
    }
   ],
   "source": [
    "big_matrix.shape"
   ]
  }
 ],
 "metadata": {
  "kernelspec": {
   "display_name": "Python 3",
   "language": "python",
   "name": "python3"
  },
  "language_info": {
   "codemirror_mode": {
    "name": "ipython",
    "version": 3
   },
   "file_extension": ".py",
   "mimetype": "text/x-python",
   "name": "python",
   "nbconvert_exporter": "python",
   "pygments_lexer": "ipython3",
   "version": "3.10.13"
  }
 },
 "nbformat": 4,
 "nbformat_minor": 2
}
